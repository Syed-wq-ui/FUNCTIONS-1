{
  "nbformat": 4,
  "nbformat_minor": 0,
  "metadata": {
    "colab": {
      "provenance": []
    },
    "kernelspec": {
      "name": "python3",
      "display_name": "Python 3"
    },
    "language_info": {
      "name": "python"
    }
  },
  "cells": [
    {
      "cell_type": "code",
      "execution_count": 3,
      "metadata": {
        "id": "AKTQgnp8G2jl"
      },
      "outputs": [],
      "source": [
        "#Practical question\n",
        "##1 Write a Python function that takes a list of numbers as input and returns the sum of all even numbers in\n",
        "#the list.\n",
        "\n",
        "##2. Create a Python function that accepts a string and returns the reverse of that string.\n",
        "\n",
        "\n",
        "##3. Implement a Python function that takes a list of integers and returns a new list containing the squares of\n",
        "#each number.\n",
        "\n",
        "##4. Write a Python function that checks if a given number is prime or not from 1 to 200.\n",
        "\n",
        "\n",
        "##5. Create an iterator class in Python that generates the Fibonacci sequence up to a specified number of\n",
        "#terms.\n",
        "\n",
        "##6. Write a generator function in Python that yields the powers of 2 up to a given exponent.\n",
        "\n",
        "##7. Implement a generator function that reads a file line by line and yields each line as a string.\n",
        "\n",
        "##8. Use a lambda function in Python to sort a list of tuples based on the second element of each tuple.\n",
        "\n",
        "##9. Write a Python program that uses `map()` to convert a list of temperatures from Celsius to Fahrenheit.\n",
        "\n",
        "##10. Create a Python program that uses `filter()` to remove all the vowels from a given string\n",
        "#11.\n"
      ]
    },
    {
      "cell_type": "code",
      "source": [
        "#1st question\n",
        "def even(x):\n",
        "  sum = 0\n",
        "  for i in x:\n",
        "    if i%2==0:\n",
        "      sum = sum+i\n",
        "  return sum\n"
      ],
      "metadata": {
        "id": "iz3KlAL6HV9I"
      },
      "execution_count": 4,
      "outputs": []
    },
    {
      "cell_type": "code",
      "source": [
        "even([2,4,5,6])"
      ],
      "metadata": {
        "colab": {
          "base_uri": "https://localhost:8080/"
        },
        "id": "zxXi1Cf2IoW6",
        "outputId": "c2d8468b-e321-4311-d2d1-da7a28139a9b"
      },
      "execution_count": 5,
      "outputs": [
        {
          "output_type": "execute_result",
          "data": {
            "text/plain": [
              "12"
            ]
          },
          "metadata": {},
          "execution_count": 5
        }
      ]
    },
    {
      "cell_type": "code",
      "source": [
        "#2nd question\n",
        "def string(x):\n",
        "  return x[::-1]"
      ],
      "metadata": {
        "id": "82Ok-TG0IsM-"
      },
      "execution_count": 17,
      "outputs": []
    },
    {
      "cell_type": "code",
      "source": [
        "string('hello how are yoi')"
      ],
      "metadata": {
        "colab": {
          "base_uri": "https://localhost:8080/",
          "height": 35
        },
        "id": "inl9_Qh8JKAA",
        "outputId": "2e1f9475-2ed5-4679-e14e-01252e5b6452"
      },
      "execution_count": 19,
      "outputs": [
        {
          "output_type": "execute_result",
          "data": {
            "text/plain": [
              "'ioy era woh olleh'"
            ],
            "application/vnd.google.colaboratory.intrinsic+json": {
              "type": "string"
            }
          },
          "metadata": {},
          "execution_count": 19
        }
      ]
    },
    {
      "cell_type": "code",
      "source": [
        "#3rd ques\n",
        "def square(x):\n",
        "  l = []\n",
        "  for i in x:\n",
        "    l.append(i**2)\n",
        "  return l"
      ],
      "metadata": {
        "id": "UYUu2Rh2JQz7"
      },
      "execution_count": 23,
      "outputs": []
    },
    {
      "cell_type": "code",
      "source": [
        "square([1,2,3,4])"
      ],
      "metadata": {
        "colab": {
          "base_uri": "https://localhost:8080/"
        },
        "id": "6J1pCQDSL-Bw",
        "outputId": "653eebbe-a27e-4465-fec7-4f2604da171e"
      },
      "execution_count": 21,
      "outputs": [
        {
          "output_type": "execute_result",
          "data": {
            "text/plain": [
              "[1, 4, 9, 16]"
            ]
          },
          "metadata": {},
          "execution_count": 21
        }
      ]
    },
    {
      "cell_type": "code",
      "source": [
        "#4th ques\n",
        "def prime(x):\n",
        "  if x<2:\n",
        "    print('it is not prime')\n",
        "  else:\n",
        "    for i in range(2,x):\n",
        "      if x%i==0:\n",
        "        print('not prime')\n",
        "        return\n",
        "      else:\n",
        "          print('prime')\n",
        "          return"
      ],
      "metadata": {
        "id": "SowgnaJcMCFO"
      },
      "execution_count": 9,
      "outputs": []
    },
    {
      "cell_type": "code",
      "source": [
        "prime(7)"
      ],
      "metadata": {
        "colab": {
          "base_uri": "https://localhost:8080/"
        },
        "id": "hrZLq-WkNKtr",
        "outputId": "0e203c43-d8b0-4a48-b08b-0ba8a74293da"
      },
      "execution_count": 10,
      "outputs": [
        {
          "output_type": "stream",
          "name": "stdout",
          "text": [
            "prime\n"
          ]
        }
      ]
    },
    {
      "cell_type": "code",
      "source": [
        "#5th ques\n",
        "def fib(x):\n",
        "  a=0\n",
        "  b=1\n",
        "  yield(a)\n",
        "  yield(b)\n",
        "\n",
        "  for i in range(2,x):\n",
        "    c=a+b\n",
        "    a=b\n",
        "    b=c\n",
        "    yield(c)\n",
        "\n",
        ""
      ],
      "metadata": {
        "id": "kx2zyetwNMem"
      },
      "execution_count": 23,
      "outputs": []
    },
    {
      "cell_type": "code",
      "source": [
        "a = iter(fib(3))\n",
        "print(next(a))\n",
        "print(next(a))\n",
        "print(next(a))"
      ],
      "metadata": {
        "colab": {
          "base_uri": "https://localhost:8080/"
        },
        "id": "Ar7AmUjDI83O",
        "outputId": "8e61d86e-483e-471c-e5ab-6c2a1a5312c5"
      },
      "execution_count": 26,
      "outputs": [
        {
          "output_type": "stream",
          "name": "stdout",
          "text": [
            "0\n",
            "1\n",
            "1\n"
          ]
        }
      ]
    },
    {
      "cell_type": "code",
      "source": [
        "#6th ques\n",
        "def exp(x):\n",
        "  for i in range(1,x+1):\n",
        "    yield 2**i"
      ],
      "metadata": {
        "id": "D7RzCxgGI-dr"
      },
      "execution_count": 3,
      "outputs": []
    },
    {
      "cell_type": "code",
      "source": [
        "a = iter(exp(3))\n",
        "print(next(a))\n",
        "print(next(a))\n",
        "print(next(a))"
      ],
      "metadata": {
        "colab": {
          "base_uri": "https://localhost:8080/"
        },
        "id": "WtM4Fwmpe_yF",
        "outputId": "1dadb1d3-bfbe-40c5-e84b-b6084739371c"
      },
      "execution_count": 4,
      "outputs": [
        {
          "output_type": "stream",
          "name": "stdout",
          "text": [
            "2\n",
            "4\n",
            "8\n"
          ]
        }
      ]
    },
    {
      "cell_type": "code",
      "source": [
        "#7th ques\n",
        "def read_file_line_by_line(file_path):\n",
        "    with open(file_path, 'r', encoding='utf-8') as file:\n",
        "        for line in file:\n",
        "            yield line.strip()"
      ],
      "metadata": {
        "id": "OMSmZFitfMLW"
      },
      "execution_count": 1,
      "outputs": []
    },
    {
      "cell_type": "code",
      "source": [
        "##8. Use a lambda function in Python to sort a list of tuples based on the second element of each\n",
        "x = [('python',3),('java',1),('c++',2)]\n",
        "x.sort(key=lambda item: item[1])\n",
        "print(x)"
      ],
      "metadata": {
        "colab": {
          "base_uri": "https://localhost:8080/"
        },
        "id": "Kl03teeh08YI",
        "outputId": "0c4745d8-1fbe-4767-c5dc-36737ce3a995"
      },
      "execution_count": 4,
      "outputs": [
        {
          "output_type": "stream",
          "name": "stdout",
          "text": [
            "[('java', 1), ('c++', 2), ('python', 3)]\n"
          ]
        }
      ]
    },
    {
      "cell_type": "code",
      "source": [
        "#9th ques\n",
        "def convert(x):\n",
        "    return (x*9/5)+32\n",
        "\n",
        "\n"
      ],
      "metadata": {
        "id": "FSnyOc-A4Lbv"
      },
      "execution_count": 16,
      "outputs": []
    },
    {
      "cell_type": "code",
      "source": [
        "c = [23,45,46]\n",
        "list(map(convert,c))"
      ],
      "metadata": {
        "colab": {
          "base_uri": "https://localhost:8080/"
        },
        "id": "hvEEdSlu48Dp",
        "outputId": "44040550-ce73-455b-f8eb-fd9192b41e03"
      },
      "execution_count": 17,
      "outputs": [
        {
          "output_type": "execute_result",
          "data": {
            "text/plain": [
              "[73.4, 113.0, 114.8]"
            ]
          },
          "metadata": {},
          "execution_count": 17
        }
      ]
    },
    {
      "cell_type": "code",
      "source": [
        "#10th ques delete vowels from string using filter\n",
        "s = 'Syed'\n",
        "result = \"\".join(filter(lambda x: x.lower() not in ('a', 'e', 'i', 'o', 'u'), s))\n",
        "print(result)"
      ],
      "metadata": {
        "colab": {
          "base_uri": "https://localhost:8080/"
        },
        "id": "xqIzyQtK5CGf",
        "outputId": "5e1d090c-e4c5-435f-9320-2e325007c4ad"
      },
      "execution_count": 5,
      "outputs": [
        {
          "output_type": "stream",
          "name": "stdout",
          "text": [
            "Syd\n"
          ]
        }
      ]
    },
    {
      "cell_type": "code",
      "source": [
        "#11th ques\n",
        "orders = [\n",
        "    [34587, \"Learning Python, Mark Lutz\", 4, 40.95],\n",
        "    [98762, \"Programming Python, Mark Lutz\", 5, 56.80],\n",
        "    [77226, \"Head First Python, Paul Barry\", 3, 32.95],\n",
        "    [88112, \"Einführung in Python3, Bernd Klein\", 3, 24.99]\n",
        "]\n",
        "result = list(map(lambda x: (x[0], x[2] * x[3] if x[2] * x[3] >= 100 else x[2] * x[3] + 10), orders))\n",
        "\n",
        "print(result)\n"
      ],
      "metadata": {
        "colab": {
          "base_uri": "https://localhost:8080/"
        },
        "id": "kRwh6-qtbkKQ",
        "outputId": "4699cc6d-2e0a-433f-f54c-f3cc9ef7db57"
      },
      "execution_count": 8,
      "outputs": [
        {
          "output_type": "stream",
          "name": "stdout",
          "text": [
            "[(34587, 163.8), (98762, 284.0), (77226, 108.85000000000001), (88112, 84.97)]\n"
          ]
        }
      ]
    },
    {
      "cell_type": "code",
      "source": [],
      "metadata": {
        "id": "tnmsfrTuga3M"
      },
      "execution_count": null,
      "outputs": []
    },
    {
      "cell_type": "markdown",
      "source": [
        "1. What is the difference between a function and a method in Python?\n",
        "\n",
        "2. Explain the concept of function arguments and parameters in Python.\n",
        "\n",
        "3. What are the different ways to define and call a function in Python?\n",
        "\n",
        "4. What is the purpose of the `return` statement in a Python function?\n",
        "\n",
        "5. What are iterators in Python and how do they differ from iterables?\n",
        "\n",
        "6. Explain the concept of generators in Python and how they are defined.\n",
        "\n",
        "7. What are the advantages of using generators over regular functions?\n",
        "\n",
        "8. What is a lambda function in Python and when is it typically used?\n",
        "\n",
        "9. Explain the purpose and usage of the `map()` function in Python.\n",
        "\n",
        "10. What is the difference between `map()`, `reduce()`, and `filter()` functions in Python?\n",
        "\n",
        "\n",
        "\n",
        "(Attach paper image for this answer) in doc or colab notebook.\n",
        "11. Using pen & Paper write the internal mechanism for sum operation using reduce function on this given\n",
        "list:[47,11,42,13];\n",
        "\n",
        "---------------------------------------------------------------------------\n",
        "\n",
        "ANSWERS\n",
        "\n",
        "-------\n",
        "\n",
        "1.->> Functions >>it is defined with def keyword . Suppose if we want to to write a code for calculating the addition of numbers so we write the code but if the code is needed somewhere else also then we also have to write the code to calculate it so\n",
        "it is very unescessary to write the code everywhere so what we do is we define a function and write the code inside the function and whenever we want to use the particular code we just give a call to the function\n",
        "eg >> def add_number(x,y):\n",
        "            return x+y\n",
        "\n",
        "        #calling\n",
        "        add_number(3,5)\n",
        "        #output 8 so you can call this function anywhere wherever there is a need to calculate sum of 2 numbers\n",
        "\n",
        "\n",
        "    ->> Methods >> Methods is defined inside a class and we make objects of the class and function is used inside the method\n",
        "    eg-->>class Student:\n",
        "              def add(a,b):\n",
        "              return a,b\n",
        "\n",
        "              so to call this we have to first make instance of the object and then we call it\n",
        "\n",
        "              so this is the basic difference\n",
        "\n",
        " --------------------------------------------------------------------------\n",
        "                 \n",
        "2.->> Function parameter is  values within the defined function\n",
        "eg>> def add(x,y)-->parameter\n",
        "\n",
        "  ->> Arguement is passing the value when calling the function\n",
        "\n",
        "eg->>add(5,3)->>arguements\n",
        "\n",
        "---------------------------------------------------------------------------\n",
        "\n",
        "3.->>Normal way to define a function\n",
        "\n",
        "     def add(x,y):\n",
        "     return x+y\n",
        "\n",
        "     call\n",
        "     add(3,4)\n",
        "\n",
        "     setting the value in function\n",
        "\n",
        "     def add(x=3,y=5)\n",
        "     return x+y\n",
        "\n",
        "     Arbitary\n",
        "\n",
        "     def sum_all(*numbers):\n",
        "     return sum(numbers)\n",
        "\n",
        "     and there are many ways to define and call a function\n",
        "\n",
        " -------------------------------------------------------------------------\n",
        "\n",
        " 4.-->>Return statement just calculate the value all at once and give the value back after calculating all value at once without return statement the function will return none type\n",
        "\n",
        " def calculate_area(length, width):\n",
        "     return length * width  # Returns the calculated area\n",
        "\n",
        "def print_area(length, width):\n",
        "     print(\"Area:\", length * width)  # Just prints the area\n",
        "\n",
        "  # Calling the functions\n",
        "area1 = calculate_area(5, 3)\n",
        "print(area1)  # Output: 15\n",
        "\n",
        "area2 = print_area(5, 3)  \n",
        "print(area2)  # Output: Area: 15  AND  None\n",
        "\n",
        "---------------------------------------------------------------------------\n",
        "\n",
        "5.->>Iterables are are things which will be iterated and loops is used\n",
        "      uses __iter__()\n",
        "  ->>Iterators are one which get value by using __iter__() and next()\n",
        "\n",
        " eg->>  numbers = [1, 2, 3, 4]\n",
        "\n",
        "  num = iter(numbers)\n",
        "\n",
        "  print(next(num))\n",
        "\n",
        "---------------------------------------------------------------------------\n",
        "\n",
        "6.->>Generator is a also kind of iterator which doesnt store all the values at once rather you get 1 by 1\n",
        "  it uses yield rather than return it calculate value 1 by 1\n",
        "\n",
        "  def simple_generator():\n",
        "    yield 1\n",
        "    yield 2\n",
        "\n",
        "    generate = simple_generator()\n",
        "    print(next(gen))\n",
        "    print(next(gen))\n",
        "\n",
        "---------------------------------------------------------------------------\n",
        "\n",
        "7.->>Generator function uses less memory it executes faster and these are the advantages of generator over normal function\n",
        "\n",
        "---------------------------------------------------------------------------\n",
        "\n",
        "8.->>Lambda function in python is ued when we need to write function in a short manner\n",
        "     lambda arguements:expression\n",
        "eg>> lambda a,b:a+b\n",
        "---------------------------------------------------------------------------\n",
        "\n",
        "9.->>it is used to apply a function to each element of an iterable like a list or tuple and return a new iterable map object containing the new values.\n",
        "\n",
        "eg>> map(lambda a:a*a,[1,2,3,4])\n",
        "---------------------------------------------------------------------------\n",
        "\n",
        "10.->>map checks the condition for each elemnt\n",
        "      filter checks the conding only on which it is applicable\n",
        "      reduce gives one value after checking once\n",
        "\n",
        "---------------------------------------------------------------------------\n",
        "\n"
      ],
      "metadata": {
        "id": "rNjkVHxghb8A"
      }
    }
  ]
}